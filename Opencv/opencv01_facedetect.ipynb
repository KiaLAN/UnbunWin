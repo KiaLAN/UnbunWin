{
 "cells": [
  {
   "cell_type": "code",
   "execution_count": 1,
   "metadata": {},
   "outputs": [],
   "source": [
    "# -*- coding : utf-8 -*-\n",
    "# Author: Tom Yu\n",
    "import cv2\n",
    "cap = cv2.VideoCapture(0)\n",
    "\n",
    "def face_detect():\n",
    "    face_cascade = cv2.CascadeClassifier(r\"D:/opencv/sources/data/haarcascades/haarcascade_frontalface_default.xml\")\n",
    "    while True:\n",
    "        ret,frame = cap.read()\n",
    "        gray_frame = cv2.cvtColor(frame,cv2.COLOR_BGR2GRAY)\n",
    "        faces = face_cascade.detectMultiScale(gray_frame,1.1,5)\n",
    "        for (x,y,w,h) in faces:\n",
    "            # cv2.rectangle(frame,(x,y),(x+w,y+h),(0,255,0),1)\n",
    "            cv2.line(frame,(x,y),(x+50,y),(0,0,255),4)\n",
    "            cv2.line(frame,(x,y),(x,y+50),(0,0,255),4)\n",
    "            cv2.line(frame,(x+w,y),(x+w,y+50),(0,0,255),4)\n",
    "            cv2.line(frame,(x+w,y),(x+w-50,y),(0,0,255),4)\n",
    "            cv2.line(frame,(x,y+h),(x+50,y+h),(0,0,255),4)\n",
    "            cv2.line(frame,(x,y+h),(x,y+h-50),(0,0,255),4)\n",
    "            cv2.line(frame,(x+w,y+h),(x+w,y+h-50),(0,0,255),4)\n",
    "            cv2.line(frame,(x+w,y+h),(x+w-50,y+h),(0,0,255),4)\n",
    "        cv2.imshow(\"face\",frame)\n",
    "        k = cv2.waitKey(1)&0xff\n",
    "        if k == 27:\n",
    "            break\n",
    "    cap.release()\n",
    "    cv2.destroyAllWindows()\n",
    "\n",
    "if __name__ == \"__main__\":\n",
    "    face_detect()"
   ]
  },
  {
   "cell_type": "code",
   "execution_count": 27,
   "metadata": {},
   "outputs": [],
   "source": [
    "import cv2\n",
    "\n",
    "cap = cv2.VideoCapture(0) \n",
    "face_cascade = cv2.CascadeClassifier(r'haarcascade_frontalface_default.xml') # 加载人脸特征库\n",
    "face_cascade.load('D:/opencv/sources/data/haarcascades/haarcascade_frontalface_default.xml')\n",
    "\n",
    "while(True):\n",
    "    ret, frame = cap.read() # 读取一帧的图像\n",
    "    gray = cv2.cvtColor(frame, cv2.COLOR_BGR2GRAY) # 转灰\n",
    "\n",
    "    faces = face_cascade.detectMultiScale(gray, scaleFactor = 1.2, minNeighbors = 5, minSize = (5, 5)) # 检测人脸\n",
    "    for(x, y, w, h) in faces:\n",
    "        cv2.rectangle(gray, (x, y), (x + w, y + h), (0, 255, 0), 2) # 用矩形圈出人脸\n",
    "\n",
    "    cv2.imshow('Face Recognition', gray)\n",
    "    if cv2.waitKey(1) & 0xFF == ord('q'):\n",
    "        break\n",
    "\n",
    "cap.release() # 释放摄像头\n",
    "cv2.destroyAllWindows()"
   ]
  },
  {
   "cell_type": "code",
   "execution_count": 32,
   "metadata": {},
   "outputs": [],
   "source": [
    "face_cascade.detectMultiScale?"
   ]
  },
  {
   "cell_type": "code",
   "execution_count": null,
   "metadata": {},
   "outputs": [],
   "source": []
  }
 ],
 "metadata": {
  "kernelspec": {
   "display_name": "Python 3",
   "language": "python",
   "name": "python3"
  },
  "language_info": {
   "codemirror_mode": {
    "name": "ipython",
    "version": 3
   },
   "file_extension": ".py",
   "mimetype": "text/x-python",
   "name": "python",
   "nbconvert_exporter": "python",
   "pygments_lexer": "ipython3",
   "version": "3.6.2"
  },
  "latex_envs": {
   "LaTeX_envs_menu_present": true,
   "autoclose": false,
   "autocomplete": true,
   "bibliofile": "biblio.bib",
   "cite_by": "apalike",
   "current_citInitial": 1,
   "eqLabelWithNumbers": true,
   "eqNumInitial": 1,
   "hotkeys": {
    "equation": "Ctrl-E",
    "itemize": "Ctrl-I"
   },
   "labels_anchors": false,
   "latex_user_defs": false,
   "report_style_numbering": false,
   "user_envs_cfg": false
  }
 },
 "nbformat": 4,
 "nbformat_minor": 2
}
